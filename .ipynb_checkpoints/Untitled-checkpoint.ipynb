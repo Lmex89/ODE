{
 "cells": [
  {
   "cell_type": "code",
   "execution_count": 1,
   "metadata": {},
   "outputs": [],
   "source": [
    "x = var('x')\n",
    "y = function('y')(x)"
   ]
  },
  {
   "cell_type": "code",
   "execution_count": 53,
   "metadata": {},
   "outputs": [
    {
     "data": {
      "text/plain": [
       "100*y(x) + 50*diff(y(x), x, x) == 0"
      ]
     },
     "execution_count": 53,
     "metadata": {},
     "output_type": "execute_result"
    }
   ],
   "source": [
    "de = 50*diff(y,x,2) + 100*y  == 0\n",
    "de"
   ]
  },
  {
   "cell_type": "code",
   "execution_count": 55,
   "metadata": {
    "scrolled": false
   },
   "outputs": [
    {
     "data": {
      "text/plain": [
       "1/2*sqrt(2)*sin(sqrt(2)*x) + cos(sqrt(2)*x)"
      ]
     },
     "execution_count": 55,
     "metadata": {},
     "output_type": "execute_result"
    }
   ],
   "source": [
    "f= desolve(de, y, [0,1,1]) \n",
    "f\n",
    "\n"
   ]
  },
  {
   "cell_type": "code",
   "execution_count": 32,
   "metadata": {
    "scrolled": false
   },
   "outputs": [
    {
     "name": "stdout",
     "output_type": "stream",
     "text": [
      "0.000000000000000 30.0 30.0\n",
      "0.100000000000000 54.31074341909154 24.310743419091533\n",
      "0.200000000000000 73.60248255367173 19.2917391345802\n",
      "0.300000000000000 88.63087397460008 15.02839142092835\n",
      "0.400000000000000 100.25136846262045 11.620494488020364\n",
      "0.500000000000000 109.43032359907889 9.178955136458434\n",
      "0.600000000000000 117.25194419755528 7.821620598476388\n",
      "0.700000000000000 124.92031960147025 7.668375403914976\n",
      "0.800000000000000 133.75602439286996 8.835704791399701\n",
      "0.900000000000000 145.1869723634662 11.430947970596234\n",
      "1.00000000000000 160.73345372251 15.5464813590438\n",
      "1.10000000000000 181.98753277413616 21.25407905162614\n",
      "1.20000000000000 210.58722767854337 28.599694904407222\n",
      "1.30000000000000 248.1861254786906 37.59889780014724\n",
      "1.40000000000000 296.4192948599761 48.2331693812855\n",
      "1.50000000000000 356.8665374982455 60.447242638269415\n",
      "1.60000000000000 431.01415892204056 74.14762142379507\n",
      "1.70000000000000 520.2165356446767 89.20237672263615\n",
      "1.80000000000000 625.6588027223343 105.44226707765755\n",
      "1.90000000000000 748.3219825836916 122.66317986135732\n"
     ]
    }
   ],
   "source": [
    "\n",
    "sum1 = 0\n",
    "step = 0.1\n",
    "final = 2/step \n",
    "\n",
    "for i in range(0,int(final)):\n",
    "    ii= float(i)*step\n",
    "    #y1 = pow(abs(f2(ii) + f(ii) ),2) \n",
    "    y1 = 300*pow(abs(f2(ii) + f(ii) ),2) + 30*pow(abs(1.0 - f(ii)),2) + 70*pow(abs(1.0-f1(ii)),2)\n",
    "    sum1 = y1 +sum1\n",
    "    \n",
    "    print(ii,float(sum1),float(y1))"
   ]
  },
  {
   "cell_type": "markdown",
   "metadata": {},
   "source": [
    "\n",
    "print(float(sum1))\n"
   ]
  },
  {
   "cell_type": "code",
   "execution_count": 213,
   "metadata": {},
   "outputs": [
    {
     "name": "stdout",
     "output_type": "stream",
     "text": [
      "16.83876327114647\n"
     ]
    }
   ],
   "source": [
    "print(float(sum1))"
   ]
  },
  {
   "cell_type": "code",
   "execution_count": 185,
   "metadata": {},
   "outputs": [
    {
     "data": {
      "text/plain": [
       "1"
      ]
     },
     "execution_count": 185,
     "metadata": {},
     "output_type": "execute_result"
    }
   ],
   "source": [
    "pow(0,0)"
   ]
  },
  {
   "cell_type": "code",
   "execution_count": 186,
   "metadata": {},
   "outputs": [
    {
     "data": {
      "text/plain": [
       "-Infinity"
      ]
     },
     "execution_count": 186,
     "metadata": {},
     "output_type": "execute_result"
    }
   ],
   "source": [
    "log(0)"
   ]
  },
  {
   "cell_type": "code",
   "execution_count": null,
   "metadata": {},
   "outputs": [],
   "source": []
  }
 ],
 "metadata": {
  "kernelspec": {
   "display_name": "SageMath 9.0",
   "language": "sage",
   "name": "sagemath"
  },
  "language_info": {
   "codemirror_mode": {
    "name": "ipython",
    "version": 3
   },
   "file_extension": ".py",
   "mimetype": "text/x-python",
   "name": "python",
   "nbconvert_exporter": "python",
   "pygments_lexer": "ipython3",
   "version": "3.8.5"
  }
 },
 "nbformat": 4,
 "nbformat_minor": 4
}
